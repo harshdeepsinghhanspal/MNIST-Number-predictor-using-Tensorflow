{
  "cells": [
    {
      "cell_type": "code",
      "execution_count": null,
      "metadata": {
        "id": "9RMGovlgv__7"
      },
      "outputs": [],
      "source": [
        "import tensorflow as tf\n",
        "from tensorflow.keras import layers, models, optimizers\n",
        "from tensorflow.keras.datasets import mnist\n",
        "from tensorflow.keras.utils import to_categorical\n",
        "from PIL import Image\n",
        "import numpy as np"
      ]
    },
    {
      "cell_type": "code",
      "execution_count": null,
      "metadata": {
        "id": "ce9VQiW-wGR3"
      },
      "outputs": [],
      "source": [
        "# Load and preprocess the MNIST dataset\n",
        "(x_train, y_train), (x_test, y_test) = mnist.load_data()\n",
        "x_train = x_train.reshape(-1, 28, 28, 1).astype('float32') / 255.0\n",
        "x_test = x_test.reshape(-1, 28, 28, 1).astype('float32') / 255.0\n",
        "y_train = to_categorical(y_train, 10)\n",
        "y_test = to_categorical(y_test, 10)"
      ]
    },
    {
      "cell_type": "code",
      "execution_count": null,
      "metadata": {
        "id": "w07zC5igwJEW"
      },
      "outputs": [],
      "source": [
        "# Build the model\n",
        "model = models.Sequential([\n",
        "    layers.Conv2D(32, (3, 3), activation='relu', input_shape=(28, 28, 1)),\n",
        "    layers.Conv2D(64, (3, 3), activation='relu'),\n",
        "    layers.Conv2D(64, (3, 3), activation='relu'),\n",
        "    layers.Flatten(),\n",
        "    layers.Dense(10, activation='softmax')\n",
        "])"
      ]
    },
    {
      "cell_type": "code",
      "execution_count": null,
      "metadata": {
        "colab": {
          "base_uri": "https://localhost:8080/"
        },
        "id": "zU7LgF-jwMNv",
        "outputId": "2c91cd65-d919-46c0-c23b-70fdb78cc643"
      },
      "outputs": [
        {
          "output_type": "stream",
          "name": "stdout",
          "text": [
            "Epoch 1/10\n",
            "1875/1875 [==============================] - 305s 162ms/step - loss: 0.1063 - accuracy: 0.9676 - val_loss: 0.0556 - val_accuracy: 0.9813\n",
            "Epoch 2/10\n",
            "1875/1875 [==============================] - 311s 166ms/step - loss: 0.0406 - accuracy: 0.9870 - val_loss: 0.0346 - val_accuracy: 0.9881\n",
            "Epoch 3/10\n",
            "1875/1875 [==============================] - 307s 164ms/step - loss: 0.0264 - accuracy: 0.9917 - val_loss: 0.0410 - val_accuracy: 0.9869\n",
            "Epoch 4/10\n",
            "1875/1875 [==============================] - 315s 168ms/step - loss: 0.0170 - accuracy: 0.9945 - val_loss: 0.0477 - val_accuracy: 0.9862\n",
            "Epoch 5/10\n",
            "1875/1875 [==============================] - 307s 164ms/step - loss: 0.0126 - accuracy: 0.9960 - val_loss: 0.0471 - val_accuracy: 0.9866\n",
            "Epoch 6/10\n",
            "1875/1875 [==============================] - 312s 166ms/step - loss: 0.0099 - accuracy: 0.9967 - val_loss: 0.0484 - val_accuracy: 0.9878\n",
            "Epoch 7/10\n",
            "1875/1875 [==============================] - 305s 162ms/step - loss: 0.0071 - accuracy: 0.9977 - val_loss: 0.0553 - val_accuracy: 0.9870\n",
            "Epoch 8/10\n",
            "1875/1875 [==============================] - 303s 162ms/step - loss: 0.0064 - accuracy: 0.9979 - val_loss: 0.0678 - val_accuracy: 0.9885\n",
            "Epoch 9/10\n",
            "1875/1875 [==============================] - 313s 167ms/step - loss: 0.0059 - accuracy: 0.9982 - val_loss: 0.0800 - val_accuracy: 0.9848\n",
            "Epoch 10/10\n",
            "1875/1875 [==============================] - 320s 171ms/step - loss: 0.0039 - accuracy: 0.9986 - val_loss: 0.0735 - val_accuracy: 0.9885\n"
          ]
        },
        {
          "output_type": "execute_result",
          "data": {
            "text/plain": [
              "<keras.src.callbacks.History at 0x782bdecc3dc0>"
            ]
          },
          "metadata": {},
          "execution_count": 4
        }
      ],
      "source": [
        "# Compile the model\n",
        "model.compile(optimizer=optimizers.Adam(1e-3),\n",
        "              loss='categorical_crossentropy',\n",
        "              metrics=['accuracy'])\n",
        "\n",
        "# Train the model\n",
        "model.fit(x_train, y_train, epochs=10, batch_size=32, validation_data=(x_test, y_test))"
      ]
    },
    {
      "cell_type": "code",
      "execution_count": null,
      "metadata": {
        "id": "2mEmDKWswSyR",
        "colab": {
          "base_uri": "https://localhost:8080/"
        },
        "outputId": "4266fe00-da07-47de-bf1b-45bc642fc8a9"
      },
      "outputs": [
        {
          "output_type": "stream",
          "name": "stderr",
          "text": [
            "/usr/local/lib/python3.10/dist-packages/keras/src/engine/training.py:3103: UserWarning: You are saving your model as an HDF5 file via `model.save()`. This file format is considered legacy. We recommend using instead the native Keras format, e.g. `model.save('my_model.keras')`.\n",
            "  saving_api.save_model(\n"
          ]
        }
      ],
      "source": [
        "# Save the model\n",
        "model.save('model_state.h5')"
      ]
    },
    {
      "cell_type": "code",
      "execution_count": null,
      "metadata": {
        "id": "U9f4ipaxwVOx"
      },
      "outputs": [],
      "source": [
        "# Load the model\n",
        "model = models.load_model('model_state.h5')"
      ]
    },
    {
      "cell_type": "code",
      "execution_count": null,
      "metadata": {
        "id": "KZUYC254wXJP",
        "colab": {
          "base_uri": "https://localhost:8080/"
        },
        "outputId": "e5eb90c0-9641-486f-c72c-3a142809eb31"
      },
      "outputs": [
        {
          "output_type": "stream",
          "name": "stdout",
          "text": [
            "1/1 [==============================] - 0s 103ms/step\n",
            "9\n",
            "1/1 [==============================] - 0s 22ms/step\n",
            "3\n"
          ]
        }
      ],
      "source": [
        "# Function to preprocess and predict a single image\n",
        "def predict_image(image_path):\n",
        "    img = Image.open(image_path).convert('L')\n",
        "    img = img.resize((28, 28))\n",
        "    img_array = np.array(img).reshape(-1, 28, 28, 1).astype('float32') / 255.0\n",
        "    prediction = np.argmax(model.predict(img_array))\n",
        "    return prediction\n",
        "\n",
        "# Predict images\n",
        "print(predict_image('img_3.jpg'))\n",
        "print(predict_image('img_10.jpg'))"
      ]
    }
  ],
  "metadata": {
    "colab": {
      "provenance": []
    },
    "kernelspec": {
      "display_name": "Python 3",
      "name": "python3"
    },
    "language_info": {
      "name": "python"
    }
  },
  "nbformat": 4,
  "nbformat_minor": 0
}